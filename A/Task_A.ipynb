{
 "cells": [
  {
   "cell_type": "code",
   "execution_count": 1,
   "metadata": {},
   "outputs": [],
   "source": [
    "from sklearn.metrics import accuracy_score\n",
    "from sklearn.ensemble import RandomForestClassifier\n",
    "from sklearn.model_selection import KFold, cross_val_score\n",
    "from sklearn.model_selection import GridSearchCV\n",
    "import numpy as np\n",
    "from medmnist import PneumoniaMNIST"
   ]
  },
  {
   "cell_type": "code",
   "execution_count": 2,
   "metadata": {},
   "outputs": [
    {
     "name": "stdout",
     "output_type": "stream",
     "text": [
      "Using downloaded and verified file: C:\\Users\\zhr\\.medmnist\\pneumoniamnist.npz\n",
      "Using downloaded and verified file: C:\\Users\\zhr\\.medmnist\\pneumoniamnist.npz\n",
      "Using downloaded and verified file: C:\\Users\\zhr\\.medmnist\\pneumoniamnist.npz\n"
     ]
    }
   ],
   "source": [
    "datasetA_train = PneumoniaMNIST(split=\"train\", download=True)\n",
    "datasetA_Validation = PneumoniaMNIST(split=\"val\", download=True)\n",
    "datasetA_Test = PneumoniaMNIST(split=\"test\", download=True)"
   ]
  },
  {
   "cell_type": "code",
   "execution_count": 3,
   "metadata": {},
   "outputs": [],
   "source": [
    "train_images_x = datasetA_train.imgs\n",
    "train_labels_y = datasetA_train.labels\n",
    "\n",
    "valid_images_x = datasetA_Validation.imgs\n",
    "valid_labels_y = datasetA_Validation.labels\n",
    "\n",
    "test_images_x = datasetA_Test.imgs\n",
    "test_labels_y = datasetA_Test.labels\n",
    "\n",
    "size = train_images_x[0].size\n",
    "\n",
    "X_train = train_images_x.reshape(train_images_x.shape[0], size, )\n",
    "X_val = valid_images_x.reshape(valid_images_x.shape[0], size, )\n",
    "X_test = test_images_x.reshape(test_images_x.shape[0], size, )\n",
    "\n",
    "y_train = train_labels_y.ravel()\n",
    "y_val = valid_labels_y.ravel()\n",
    "y_test = test_labels_y.ravel()"
   ]
  },
  {
   "cell_type": "code",
   "execution_count": 4,
   "metadata": {},
   "outputs": [
    {
     "name": "stdout",
     "output_type": "stream",
     "text": [
      "Fitting 3 folds for each of 180 candidates, totalling 540 fits\n",
      "Best score of GridSearchCV:  0.9475371414575662\n",
      "Best Estimator by GridSearchCV:  RandomForestClassifier(max_depth=10, n_estimators=170, n_jobs=-1,\n",
      "                       random_state=42)\n"
     ]
    }
   ],
   "source": [
    "rf = RandomForestClassifier(random_state=42, n_jobs=-1)\n",
    "\n",
    "params = {\n",
    "    'max_depth': [None,2,5,10,20],\n",
    "    'min_samples_leaf': [1,5,10,20,50,100],\n",
    "    'n_estimators': [10,50,100,150,170,200]\n",
    "}\n",
    "\n",
    "# Instantiate the grid search model\n",
    "grid_search = GridSearchCV(estimator=rf,\n",
    "                           param_grid=params,\n",
    "                           cv = 3,\n",
    "                           n_jobs=-1, verbose=1, scoring=\"accuracy\")\n",
    "\n",
    "grid_search.fit(X_train, y_train)\n",
    "\n",
    "print(\"Best score of GridSearchCV: \", grid_search.best_score_)\n",
    "print(\"Best Estimator by GridSearchCV: \", grid_search.best_estimator_)"
   ]
  },
  {
   "cell_type": "code",
   "execution_count": 5,
   "metadata": {},
   "outputs": [
    {
     "name": "stdout",
     "output_type": "stream",
     "text": [
      "Each 5-fold's accuracy:  [0.94798301 0.93312102 0.9522293  0.95536663 0.95430393]\n",
      "Average 5-Fold CV Accuracy: 0.9486007793127879\n"
     ]
    }
   ],
   "source": [
    "rf_best = grid_search.best_estimator_\n",
    "\n",
    "kf = KFold(n_splits=5, shuffle=True, random_state=42)\n",
    "\n",
    "cv_scores = cross_val_score(rf_best, X_train, y_train, cv=kf, scoring='accuracy')\n",
    "\n",
    "print(\"Each 5-fold's accuracy: \", cv_scores)\n",
    "print(f'Average 5-Fold CV Accuracy: {np.mean(cv_scores)}')"
   ]
  },
  {
   "cell_type": "code",
   "execution_count": 6,
   "metadata": {},
   "outputs": [
    {
     "name": "stdout",
     "output_type": "stream",
     "text": [
      "The final Validation Accuracy:  0.9599236641221374\n",
      "The final Test Accuracy:  0.8573717948717948\n"
     ]
    }
   ],
   "source": [
    "clf = rf_best\n",
    "clf.fit(X_train, y_train)\n",
    "\n",
    "validation_pred = clf.predict(X_val)\n",
    "validation_accuracy = accuracy_score(y_val, validation_pred)\n",
    "\n",
    "test_pred = clf.predict(X_test)\n",
    "test_accuracy = accuracy_score(y_test, test_pred)\n",
    "\n",
    "print(\"The final Validation Accuracy: \", validation_accuracy)\n",
    "print(\"The final Test Accuracy: \", test_accuracy)"
   ]
  }
 ],
 "metadata": {
  "kernelspec": {
   "display_name": "Python 3",
   "language": "python",
   "name": "python3"
  },
  "language_info": {
   "codemirror_mode": {
    "name": "ipython",
    "version": 3
   },
   "file_extension": ".py",
   "mimetype": "text/x-python",
   "name": "python",
   "nbconvert_exporter": "python",
   "pygments_lexer": "ipython3",
   "version": "3.8.18"
  }
 },
 "nbformat": 4,
 "nbformat_minor": 2
}
